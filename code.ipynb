{
 "cells": [
  {
   "cell_type": "code",
   "execution_count": null,
   "metadata": {},
   "outputs": [],
   "source": [
    "import pandas as pd\n",
    "import geopandas as gpd\n",
    "from shapely.geometry import Point\n",
    "import folium\n",
    "\n",
    "# Cargar el archivo CSV desde la ruta local con una codificación específica\n",
    "df_tacos = pd.read_csv(\"basededatos/taco_taco_barato.csv\", encoding='ISO-8859-1')\n",
    "\n",
    "# Asegúrate de que las columnas de coordenadas existan y conviértalas en geometría\n",
    "df_tacos['geometry'] = df_tacos.apply(lambda row: Point(row['Longitud'], row['Latitud']), axis=1)\n",
    "gdf = gpd.GeoDataFrame(df_tacos, geometry='geometry')\n",
    "\n",
    "# Establecer el CRS\n",
    "gdf.set_crs(epsg=4326, inplace=True)\n",
    "\n",
    "# Agregar las nuevas columnas\n",
    "gdf['href'] = None  # Asigna None si no tienes columna 'url'\n",
    "gdf['service_level'] = gdf['Descripcion estrato personal ocupado'].str.split(', ').apply(lambda x: len([v for v in x if \"all\" in v]))\n",
    "gdf['lines_served'] = gdf['Nombre de la Unidad Económica'].str.split('-').apply(lambda x: len(x))\n",
    "\n",
    "# Verifica las columnas del GeoDataFrame\n",
    "print(gdf.columns)"
   ]
  },
  {
   "cell_type": "code",
   "execution_count": null,
   "metadata": {},
   "outputs": [],
   "source": [
    "# Definir los colores para los niveles de servicio\n",
    "colors = {\n",
    "    0: 'blue',    \n",
    "    1: 'green',\n",
    "    2: 'yellow',\n",
    "    3: 'red',\n",
    "}"
   ]
  },
  {
   "cell_type": "code",
   "execution_count": null,
   "metadata": {},
   "outputs": [],
   "source": [
    "# Crear un mapa centrado en una ubicación específica (ajusta las coordenadas según sea necesario)\n",
    "m = folium.Map(location=[24.8, -107.39], zoom_start=13)  # Cambia la ubicación al centro de tus datos\n",
    "\n",
    "# Añadir el GeoJson al mapa\n",
    "folium.GeoJson(\n",
    "    gdf,\n",
    "    name=\"Taquerías\",\n",
    "    tooltip=folium.GeoJsonTooltip(fields=[\"Nombre de la Unidad Económica\", \"Nombre de clase de la actividad\"]),\n",
    "    popup=folium.GeoJsonPopup(fields=[\"Nombre de la Unidad Económica\", \"href\", \"Nombre de clase de la actividad\"]),\n",
    "    style_function=lambda x: {\n",
    "        \"fillColor\": colors.get(x['properties'].get('service_level', -1), 'gray'),  \n",
    "        \"weight\": 1,\n",
    "        \"fillOpacity\": 0.6,\n",
    "    },\n",
    "    highlight_function=lambda x: {\"fillOpacity\": 0.8},\n",
    "    zoom_on_click=True,\n",
    ").add_to(m)\n",
    "\n",
    "# Mostrar el mapa\n",
    "m"
   ]
  },
  {
   "cell_type": "code",
   "execution_count": null,
   "metadata": {},
   "outputs": [],
   "source": [
    "\n",
    "# Función para determinar el color y tamaño del círculo según el número de empleados\n",
    "def get_circle_properties(desc):\n",
    "    if \"0 a 5\" in desc:\n",
    "        return 'green', 10  # Color y tamaño para 0-5 empleados\n",
    "    elif \"6 a 10\" in desc:\n",
    "        return 'yellow', 15  # Color y tamaño para 6-10 empleados\n",
    "    elif \"11 a 20\" in desc:  # Ajusta según tus categorías\n",
    "        return 'orange', 20  # Color y tamaño para 11-20 empleados\n",
    "    else:\n",
    "        return 'red', 25  # Color y tamaño para más de 20 empleados\n",
    "\n",
    "# Añadir círculos al mapa\n",
    "for _, row in gdf.iterrows():\n",
    "    color, radius = get_circle_properties(row['Descripcion estrato personal ocupado'])\n",
    "    \n",
    "    folium.CircleMarker(\n",
    "        location=[row['Latitud'], row['Longitud']],\n",
    "        radius=radius,  # Tamaño del círculo basado en el número de empleados\n",
    "        popup=folium.Popup(f\"{row['Nombre de la Unidad Económica']}: {row['Descripcion estrato personal ocupado']}\", parse_html=True),\n",
    "        color=color,\n",
    "        fill=True,\n",
    "        fill_color=color,\n",
    "        fill_opacity=0.6\n",
    "    ).add_to(m)\n",
    "\n",
    "# Mostrar el mapa\n",
    "m"
   ]
  }
 ],
 "metadata": {
  "kernelspec": {
   "display_name": "Python 3",
   "language": "python",
   "name": "python3"
  },
  "language_info": {
   "name": "python",
   "version": "3.12.1"
  }
 },
 "nbformat": 4,
 "nbformat_minor": 2
}
